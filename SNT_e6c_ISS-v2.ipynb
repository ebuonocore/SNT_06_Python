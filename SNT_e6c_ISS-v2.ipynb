{
 "cells": [
  {
   "cell_type": "markdown",
   "metadata": {},
   "source": [
    "<div style=\"width:100%;border-collapse:separate;border:solid 2px;border-radius:14px;\">\n",
    "    <div style=\"display:flex;\">\n",
    "        <div style=\"display:inline;width:5%;\"></div>\n",
    "        <div style=\"display:inline;width:15%;\">SNT</div>\n",
    "        <div style=\"display:inline;width:15%;\">e6c</div>\n",
    "        <div style=\"display:inline;width:70%;text-align:right;\"><b>Programmation et géolocalisation</b></div>\n",
    "        <div style=\"display:inline;width:5%;\"></div>\n",
    "    </div>\n",
    "    <div  style=\"display: flex;background-color:#EEE\">\n",
    "        <p style=\"width:100%;text-align:center;\">Langage Python</p>\n",
    "    </div>\n",
    "    <div  style=\"display: flex;\">\n",
    "        <p style=\"width:100%;text-align:center;\">Où est l'ISS?</p>\n",
    "    </div>\n",
    "</div>"
   ]
  },
  {
   "cell_type": "markdown",
   "metadata": {},
   "source": [
    "<div class = \"alert alert-success\">\n",
    "    \n",
    "**Objectifs de la séquence:** \n",
    "    \n",
    "- Programmation **Python**: variables, bibliothèques<br> \n",
    "- Géolocalisation: système de coordonnées (latitude, longitude) \n",
    "\n",
    "\n",
    "Dans un premier temps, nous allons dessiner une carte, puis y ajouter des points dont nous chercherons les coordonnées GPS.<br>\n",
    "Finalement nous chercherons sur Internet les coordonnées de la station spatiale ISS et nous la placerons sur la carte.</div>\n",
    "\n",
    "![ISS_dico](https://github.com/ebuonocore/NSIT_10_Dictionnaires/blob/main/sources/ISS_ESA2.png?raw=true)\n",
    "<span style=\"font-family:Comic Sans MS; color:gray; font-size: x-small;float:right \">Source: D'après <a href =\"https://www.airbus.com/newsroom/news/en/2017/06/esa-horizons-mission.html\">airbus.com</a></span> "
   ]
  },
  {
   "cell_type": "markdown",
   "metadata": {},
   "source": [
    "<div class = \"alert alert-info\">\n",
    "    \n",
    "**Sommaire :**\n",
    "\n",
    "- <a href=#dessiner_carte>Dessiner une carte</a> \n",
    "- <a href=#placer_points>Placer les points sur la carte</a> \n",
    "- <a href=#GPS_vers_xy>Convertir des coordonnées GPS en abscisse et ordonnée</a> \n",
    "- <a href=#coordos_ISS>Récupérer les coordonnées de la sation ISS</a> \n",
    "- <a href=#final>Placer la station sur la carte</a> "
   ]
  },
  {
   "cell_type": "markdown",
   "metadata": {},
   "source": [
    "<div id=\"dessiner_carte\"></div>\n",
    "\n",
    "# Dessiner une carte"
   ]
  },
  {
   "cell_type": "markdown",
   "metadata": {},
   "source": [
    "<div class = \"alert alert-danger\">\n",
    "    \n",
    "**Importations:**\n",
    "\n",
    "La cellule suivante permet d'importer tous les modules et les images dont nous aurons besoin.  \n",
    "    Nul besoin d'en comprendre le détail, par contre, il est nécessaire d'exécuter ce bloc pour que les programmes suivants fonctionnent!\n",
    "    \n",
    "L'importation d'une bibliothèque permet d'avoir accès à des fonctions qui ont déjà été programmées."
   ]
  },
  {
   "cell_type": "code",
   "execution_count": 47,
   "metadata": {},
   "outputs": [],
   "source": [
    "# commande 'Magic' spécifique pour le Notebook\n",
    "%matplotlib inline\n",
    "import matplotlib.pyplot as plt  # importation de la bibliothèque pour dessiner le graphe\n",
    "import matplotlib.image as mpimg # importation de la bibliothèque pour insérer l'image\n",
    "import json                      # manipulation des informations au format JSON\n",
    "import urllib.request            # traitement des requêtes URL\n",
    "plt.rcParams[\"figure.figsize\"] = (12,6) # Changement de taille de l'image\n",
    "# importation de l'image de la mappemonde\n",
    "cible = mpimg.imread('https://raw.githubusercontent.com/ebuonocore/SNT_06_Python/main/sources/SNT_6_carte_720_360.png?raw=true')"
   ]
  },
  {
   "cell_type": "markdown",
   "metadata": {},
   "source": [
    "Exécutez le code suivant une première fois.  \n",
    "Ce code permet de définir l'étendue du graphique en abscisses et en ordonnées grâce à <code>plt.axis()</code> et d'ajouter l'image avec <code>plt.imshow()</code>, la variable <code>cible</code> étant définie plus haut.  \n",
    "<code>plt.show()</code> lance le dessin."
   ]
  },
  {
   "cell_type": "code",
   "execution_count": null,
   "metadata": {},
   "outputs": [],
   "source": [
    "# Définition des dimensions des axes.\n",
    "plt.axis([0,720,0,360])\n",
    "\n",
    "# Paramètre l'affichage de la grille\n",
    "#plt.grid()\n",
    "\n",
    "# Ajoute l'image de la mappemonde au dessin\n",
    "imgplot = plt.imshow(cible)\n",
    "\n",
    "#  Affiche le dessin\n",
    "plt.show()"
   ]
  },
  {
   "cell_type": "markdown",
   "metadata": {},
   "source": [
    "La ligne <code>#plt.grid()</code> a été mise en commentaire en ajoutant un <code>#</code> au début.  \n",
    "Supprimez-le et relancez l'exécution de la cellule.  \n",
    "Cela doit faire apparaitre le quadrillage."
   ]
  },
  {
   "cell_type": "markdown",
   "metadata": {},
   "source": [
    "<div id=\"placer_points\"></div>\n",
    "\n",
    "# Placer des points sur la carte"
   ]
  },
  {
   "cell_type": "markdown",
   "metadata": {},
   "source": [
    "Le code suivant est similaire au précédent. Seule la première ligne change:  \n",
    "La commande <code>plt.plot()</code> permet de dessiner un point sur la carte.  \n",
    "Elle prend trois paramètres:  \n",
    "- le premier (364.56) correspond à l'abscisse\n",
    "- le second (277.7) correspond à l'ordonnée\n",
    "- le dernier ('gs') est un code qui précise la nature du marqueur  \n",
    "\n",
    "'g' est une référence de couleur (*Color Reference*), il désigne la couleur verte (*green*).  \n",
    "'s' est une référence de forme (*Marker Reference*), il désigne la forme carrée (*scare*)"
   ]
  },
  {
   "cell_type": "code",
   "execution_count": null,
   "metadata": {},
   "outputs": [],
   "source": [
    "plt.plot (364.56, 277.7, 'gs')\n",
    "...\n",
    "...\n",
    "\n",
    "# Définition des dimensions des axes.\n",
    "plt.axis([0,720,0,360])\n",
    "\n",
    "# Paramètre l'affichage de la grille\n",
    "plt.grid()\n",
    "\n",
    "# Ajoute l'image de la mappemonde au dessin\n",
    "imgplot = plt.imshow(cible)\n",
    "\n",
    "#  Affiche le dessin\n",
    "plt.show()"
   ]
  },
  {
   "cell_type": "markdown",
   "metadata": {},
   "source": [
    "Dans la cellule précédente, à l'emplacement des <code>...</code>, ajoutez les commandes pour dessiner des croix bleues aux emplacements de **Washington** et de **Tokyo**:\n",
    "<table>\n",
    "    <tr>\n",
    "        <td><b>Ville</b></td>\n",
    "        <td><b>Abscisse</b></td>\n",
    "        <td><b>Ordonnée</b></td>\n",
    "        <tr>\n",
    "        <td>Whashigton</td>\n",
    "        <td>206.0</td>\n",
    "        <td>257.8</td>\n",
    "    </tr>\n",
    "    <tr>\n",
    "        <td>Tokyo</td>\n",
    "        <td>639.0</td>\n",
    "        <td>251.4</td>\n",
    "    </tr>\n",
    "</table>\n",
    "\n",
    "Vous pouvez vous rendre sur la page https://www.w3schools.com/python/matplotlib_markers.asp pour trouver les codes des 'Marker Reference' et\n",
    "'Color Reference'"
   ]
  },
  {
   "cell_type": "markdown",
   "metadata": {},
   "source": [
    "<details style=\"details[open] summary::-webkit-details-marker { color:#eaeaea; background:#f7f7f7; outline: 1px\n",
    "solid #ADCA48;}\">\n",
    "<summary style=\"summary::-webkit-details-marker { color:#ADCA48; background:#e2ecda;} \">\n",
    "    &#x2705; Correction</summary>\n",
    "<code>plt.plot (364.56, 277.7, 'gs')</code><br>\n",
    "<code>plt.plot (206.0, 257.8, 'bx')</code><br>\n",
    "<code>plt.plot (639.0, 251.4, 'bx')</code><br>\n",
    "</details>"
   ]
  },
  {
   "cell_type": "markdown",
   "metadata": {},
   "source": [
    "<div id=\"GPS_vers_xy\"></div>\n",
    "\n",
    "# Convertir des coordonnées GPS en abscisse et ordonnée"
   ]
  },
  {
   "cell_type": "markdown",
   "metadata": {},
   "source": [
    "On remarque que le système GPS permet de mesurer des longitudes allant de **-180°** à **180°**, alors que les abscisses de notre dessin débute à **0** et vont jusqu'à **720**.  \n",
    "\n",
    "Connaissant la longitude d'un point, on peut trouver son abscisse (x) en faisant l'opération suivante:"
   ]
  },
  {
   "cell_type": "code",
   "execution_count": 51,
   "metadata": {},
   "outputs": [
    {
     "name": "stdout",
     "output_type": "stream",
     "text": [
      "364.56\n"
     ]
    }
   ],
   "source": [
    "longitude = 2.28 # Pour Paris, par exemple\n",
    "x = (longitude + 180 ) * 2\n",
    "print(x)"
   ]
  },
  {
   "cell_type": "markdown",
   "metadata": {},
   "source": [
    "En  modifiant ci-dessus la valeur de la variable <code>longitude</code>, vous pouvez vérifier si cela fonctionne pour les trois villes données en exemple ci-dessous:"
   ]
  },
  {
   "cell_type": "markdown",
   "metadata": {},
   "source": [
    "<table>\n",
    "    <tr>\n",
    "        <td><b>Ville</b></td>\n",
    "        <td><b>Longitude</b></td>\n",
    "        <td><b>Latitude</b></td>\n",
    "        <td><b>Abscisse</b></td>\n",
    "        <td><b>Ordonnée</b></td>\n",
    "    </tr>\n",
    "        <tr>\n",
    "        <td>Paris</td>\n",
    "        <td>2.28</td>\n",
    "        <td>48.85</td>\n",
    "        <td>364.56</td>\n",
    "        <td>277.7</td>\n",
    "    </tr>\n",
    "        <tr>\n",
    "        <td>Whashigton</td>\n",
    "        <td>-77.0</td>\n",
    "        <td>38.9</td>\n",
    "        <td>206.0</td>\n",
    "        <td>257.8</td>\n",
    "    </tr>\n",
    "    <tr>\n",
    "        <td>Tokyo</td>\n",
    "        <td>139.5</td>\n",
    "        <td>35.7</td>\n",
    "        <td>639.0</td>\n",
    "        <td>251.4</td>\n",
    "    </tr>\n",
    "</table>"
   ]
  },
  {
   "cell_type": "markdown",
   "metadata": {},
   "source": [
    "De même, les latitudes vont de **-90°** jusqu'à **90°**. Elles sont représentées sur le dessin par des ordonnées comprises entre **0** et **360**.  \n",
    "\n",
    "Quelle formule permet de relier l'ordonnée (y) d'un point connaissant sa latitude ?  \n",
    "Votre formule doit être valide pour les extrémités de la carte:  \n",
    "$latitude = -90 \\Rightarrow y= 0$  \n",
    "$latitude = 90 \\Rightarrow y= 360$  "
   ]
  },
  {
   "cell_type": "code",
   "execution_count": null,
   "metadata": {},
   "outputs": [],
   "source": [
    "latitude = 48.85 # Toujours pour le cas de Paris\n",
    "y = ... \n",
    "print(y)"
   ]
  },
  {
   "cell_type": "markdown",
   "metadata": {},
   "source": [
    "<details style=\"details[open] summary::-webkit-details-marker { color:#eaeaea; background:#f7f7f7; outline: 1px\n",
    "solid #ADCA48;}\">\n",
    "<summary style=\"summary::-webkit-details-marker { color:#ADCA48; background:#e2ecda;} \">\n",
    "    &#x2705; Correction</summary>\n",
    "<code>y = (latitude + 90) * 2</code><br>\n",
    "</details>"
   ]
  },
  {
   "cell_type": "markdown",
   "metadata": {},
   "source": [
    "Chercez les coordonnées GPS de la ville de Sydney.  \n",
    "Convertissez ces coordonnées en abscisse (x) et ordonnée (y) à partir des équations précédentes.  \n",
    "Dans le dessin précédent, ajoutez à cet emplacement un marqueur de forme étoile ('Star') de couleur magenta."
   ]
  },
  {
   "cell_type": "markdown",
   "metadata": {},
   "source": [
    "<div id=\"coordos_ISS\"></div>\n",
    "\n",
    "# Récupérer les coordonnées de la station ISS"
   ]
  },
  {
   "cell_type": "markdown",
   "metadata": {},
   "source": [
    "Le code suivant permet d'interroger une Interface de Programmation sur Internet (*API* en anglais) et de récupérer en temps réel les coordonnées GPS de la station orbitale:"
   ]
  },
  {
   "cell_type": "code",
   "execution_count": 52,
   "metadata": {},
   "outputs": [
    {
     "name": "stdout",
     "output_type": "stream",
     "text": [
      "Coordonées GPS:\n",
      " * Longitude: -169.8021\n",
      " * Latitude: -51.1244\n"
     ]
    }
   ],
   "source": [
    "# Appelle l'API(Application Programming Interface) et récupère la réponse\n",
    "url = 'http://api.open-notify.org/iss-now.json'\n",
    "reponse = urllib.request.urlopen(url)\n",
    "# Exploitation de la réponse de l'API\n",
    "resultat = json.loads(reponse.read())\n",
    "latitude = float(resultat['iss_position']['latitude'])\n",
    "longitude = float(resultat['iss_position']['longitude'])\n",
    "# Affichage de la réponse\n",
    "print(\"Coordonées GPS:\")\n",
    "print(\" * Longitude:\",longitude)\n",
    "print(\" * Latitude:\", latitude)"
   ]
  },
  {
   "cell_type": "markdown",
   "metadata": {},
   "source": [
    "Les valeurs qui nous intéressent sont maintenant désignées par les variables <code>longitude</code> et <code>latitude</code>.  \n",
    "\n",
    "Complétez le code suivant qui permet de calculer l'abscisse (x_ISS) et l'ordonnée (y_ISS) de la station sur notre mappemonde en fonction des variables <code>longitude</code> et <code>latitude</code>."
   ]
  },
  {
   "cell_type": "code",
   "execution_count": null,
   "metadata": {},
   "outputs": [],
   "source": [
    "x_ISS = ...\n",
    "y_ISS = ...\n",
    "print(x_ISS, y_ISS)"
   ]
  },
  {
   "cell_type": "markdown",
   "metadata": {},
   "source": [
    "<details style=\"details[open] summary::-webkit-details-marker { color:#eaeaea; background:#f7f7f7; outline: 1px\n",
    "solid #ADCA48;}\">\n",
    "<summary style=\"summary::-webkit-details-marker { color:#ADCA48; background:#e2ecda;} \">\n",
    "    &#x2705; Correction</summary>\n",
    "<code>x_ISS = (longitude - 180) * 2</code><br>\n",
    "<code>y_ISS = (latitude - 90) * 2</code><br>\n",
    "</details>"
   ]
  },
  {
   "cell_type": "markdown",
   "metadata": {},
   "source": [
    "<div id=\"final\"></div>\n",
    "\n",
    "# Placer la station sur la carte"
   ]
  },
  {
   "cell_type": "markdown",
   "metadata": {},
   "source": [
    "On assemble maintenant la totalité du code, dans l'ordre pour créer un programme complet.  \n",
    "Il ne vous reste plus qu'à compléter les partie manquantes <code>...</code>"
   ]
  },
  {
   "cell_type": "code",
   "execution_count": null,
   "metadata": {},
   "outputs": [],
   "source": [
    "# Importations\n",
    "# commande 'Magic' spécifique pour le Notebook\n",
    "%matplotlib inline\n",
    "import matplotlib.pyplot as plt  # importation de la bibliothèque pour dessiner le graphe\n",
    "import matplotlib.image as mpimg # importation de la bibliothèque pour insérer l'image\n",
    "import json\n",
    "import urllib.request\n",
    "plt.rcParams[\"figure.figsize\"] = (12,6) # Changement de taille de l'image\n",
    "# importation de l'image de la mappemonde\n",
    "cible = mpimg.imread('https://raw.githubusercontent.com/ebuonocore/SNT_06_Python/main/sources/SNT_6_carte_720_360.png?raw=true')\n",
    "\n",
    "# Dessin des villes\n",
    "plt.plot (364.56, 277.7, 'gs')  # Emplacement de Paris\n",
    "... # Ajoutez ici l'emplacement de Washington\n",
    "... # Ajoutez ici l'emplacement de Tokto\n",
    "... # Ajoutez ici l'emplacement de Sidney\n",
    "\n",
    "# Définition des dimensions des axes.\n",
    "plt.axis([0,720,0,360])\n",
    "# Paramètre l'affichage de la grille\n",
    "plt.grid()\n",
    "# Ajoute l'image de la mappemonde au dessin\n",
    "imgplot = plt.imshow(cible)\n",
    "\n",
    "# Calcul des coordonnées de la station orbitale \n",
    "# Appelle l'API et récupère la réponse\n",
    "url = 'http://api.open-notify.org/iss-now.json'\n",
    "reponse = urllib.request.urlopen(url)\n",
    "# Exploitation de la réponse de l'API\n",
    "resultat = json.loads(reponse.read())\n",
    "latitude = float(resultat['iss_position']['latitude'])\n",
    "longitude = float(resultat['iss_position']['longitude'])\n",
    "\n",
    "x_ISS = ... # Calcul de l'abscisse de l'ISS en fonction de la longitude\n",
    "y_ISS = ... # Calcul de l'ordonnée de l'ISS en fonction de la latitude\n",
    "\n",
    "# Ajoutez ici l'emplacement de l'ISS sous la forme d'un point rouge\n",
    "...\n",
    "\n",
    "#  Affiche le dessin\n",
    "plt.show()"
   ]
  },
  {
   "cell_type": "markdown",
   "metadata": {},
   "source": [
    "<details style=\"details[open] summary::-webkit-details-marker { color:#eaeaea; background:#f7f7f7; outline: 1px\n",
    "solid #ADCA48;}\">\n",
    "<summary style=\"summary::-webkit-details-marker { color:#ADCA48; background:#e2ecda;} \">\n",
    "    &#x1F511; Aide</summary>\n",
    "Pour dessiner l'emplacement de la station, il faut exécuter une commande qui ressemble à:<br>\n",
    "<code>plt.plot (x_ISS, y_ISS, ...)</code><br>\n",
    "    Il faut juste trouver le code pour le point rouge à la place des <code>...</code>\n",
    "</details>"
   ]
  },
  {
   "cell_type": "markdown",
   "metadata": {},
   "source": [
    "---\n",
    "<p style=\"font-family:Comic Sans MS; text-align: center; color:gray; font-size: x-small; \">- Eric Buonocore. avril 2021 -<br></p>\n",
    "\n",
    "![Licence CC BY NC SA](https://licensebuttons.net/l/by-nc-sa/3.0/88x31.png)"
   ]
  }
 ],
 "metadata": {
  "kernelspec": {
   "display_name": "Python 3",
   "language": "python",
   "name": "python3"
  },
  "language_info": {
   "codemirror_mode": {
    "name": "ipython",
    "version": 3
   },
   "file_extension": ".py",
   "mimetype": "text/x-python",
   "name": "python",
   "nbconvert_exporter": "python",
   "pygments_lexer": "ipython3",
   "version": "3.7.6"
  }
 },
 "nbformat": 4,
 "nbformat_minor": 1
}
